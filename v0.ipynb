{
 "cells": [
  {
   "cell_type": "code",
   "execution_count": null,
   "metadata": {},
   "outputs": [],
   "source": [
    "%matplotlib inline\n",
    "%load_ext autoreload\n",
    "%autoreload 2"
   ]
  },
  {
   "cell_type": "code",
   "execution_count": null,
   "metadata": {},
   "outputs": [],
   "source": [
    "\n",
    "from PIL import Image, ImageDraw, ImageFont\n",
    "from datetime import datetime\n",
    "from math import ceil, floor\n",
    "from skimage.util import montage\n",
    "from sklearn.metrics import confusion_matrix\n",
    "from tensorboardX import SummaryWriter\n",
    "from torch.autograd import Variable\n",
    "from torchvision.transforms import Compose\n",
    "from typing import *\n",
    "import copy \n",
    "import cv2\n",
    "import glob\n",
    "import inspect\n",
    "import itertools\n",
    "import json\n",
    "import math\n",
    "import matplotlib.pyplot as plt \n",
    "import multiprocessing\n",
    "import numpy as np\n",
    "import os\n",
    "import pandas as pd\n",
    "import pathlib\n",
    "import pickle\n",
    "import random \n",
    "import scipy\n",
    "import socket\n",
    "import string\n",
    "import time\n",
    "import torch\n",
    "import torch.nn as nn\n",
    "import torch.nn.functional as F\n",
    "import torch.nn.init as init\n",
    "import torch.optim as optim"
   ]
  },
  {
   "cell_type": "markdown",
   "metadata": {},
   "source": [
    "### Read the data and create a "
   ]
  },
  {
   "cell_type": "code",
   "execution_count": null,
   "metadata": {},
   "outputs": [],
   "source": [
    "def get_df_from_folder(path: str) -> pd.DataFrame:\n",
    "    all_data = []\n",
    "    for ix, p in enumerate(pathlib.Path(path).glob('**/*.jpg')):\n",
    "        all_data.append({\n",
    "            'path': p.absolute(),\n",
    "            'label': p.parent.name,\n",
    "            'idx': ix,\n",
    "        })\n",
    "    df = pd.DataFrame(all_data)\n",
    "    return df"
   ]
  },
  {
   "cell_type": "code",
   "execution_count": null,
   "metadata": {},
   "outputs": [],
   "source": [
    "df = get_df_from_folder('/home/anuj/code/data/lfw_train')"
   ]
  },
  {
   "cell_type": "code",
   "execution_count": null,
   "metadata": {},
   "outputs": [],
   "source": [
    "df.shape"
   ]
  },
  {
   "cell_type": "code",
   "execution_count": null,
   "metadata": {},
   "outputs": [],
   "source": [
    "df.head()"
   ]
  },
  {
   "cell_type": "code",
   "execution_count": null,
   "metadata": {},
   "outputs": [],
   "source": [
    "np.sum(df.groupby('label').count() > 1)"
   ]
  },
  {
   "cell_type": "code",
   "execution_count": null,
   "metadata": {},
   "outputs": [],
   "source": [
    "### Shuffle and split on the basis of images (pairs would be more ideal, but more difficult)\n",
    "df = df.sample(frac=1, random_state=1111)\n",
    "n = len(df)\n",
    "n_train = int(0.8 * n)\n",
    "df_train, df_val = df.iloc[:n_train], df.iloc[n_train: ]"
   ]
  },
  {
   "cell_type": "code",
   "execution_count": null,
   "metadata": {},
   "outputs": [],
   "source": [
    "np.sum(df_train.groupby('label').count() > 1), np.sum(df_val.groupby('label').count() > 1)"
   ]
  },
  {
   "cell_type": "code",
   "execution_count": null,
   "metadata": {},
   "outputs": [],
   "source": [
    "class PairDataset:\n",
    "    \"\"\"\n",
    "    Given two images, the label is defined as:\n",
    "        - 0: if the images belong to different people\n",
    "        - 1: if the images belong to the same person\n",
    "\n",
    "    We'll pick up pairs of images from the given set using the following strategy:\n",
    "        1. Positive pair: randomly pick any positive pair from all the available samples\n",
    "        2. Negative pair: for one of the images picked for the positive pair, find a negative pair and add\n",
    "    \"\"\"\n",
    "    def __init__(self, df: pd.DataFrame) -> None:\n",
    "        df.reset_index(inplace=True, drop=True)\n",
    "        df.idx = df.index\n",
    "\n",
    "        # Find unique names in the dataset\n",
    "        dfg_by_label = df.groupby('label')\n",
    "\n",
    "        df_counts = dfg_by_label.count().reset_index()\n",
    "        names = set(df_counts.label)\n",
    "\n",
    "        # Get all the positive pairs in the dataset\n",
    "        idxs = dfg_by_label.idx.apply(list).values\n",
    "        idx_by_person = list(filter(lambda x: len(x) > 1, idxs))\n",
    "\n",
    "        pos_pairs = []\n",
    "        for list_idx_of_person in idx_by_person:\n",
    "            pairs = itertools.combinations(list_idx_of_person, 2)\n",
    "            pos_pairs.extend(pairs)\n",
    "        \n",
    "        self.names = names\n",
    "        self.pos_pairs = pos_pairs\n",
    "        self.df = df\n",
    "        self.labels = df.label.values\n",
    "        self.images = [self._read_image(p) for p in df.path]\n",
    "    \n",
    "    @staticmethod\n",
    "    def _read_image(p: str) -> np.ndarray:\n",
    "        image = cv2.imread(str(p))\n",
    "        image = cv2.cvtColor(image, cv2.COLOR_BGR2RGB)\n",
    "        return image\n",
    "    \n",
    "    def __len__(self) -> int:\n",
    "        return len(self.pos_pairs)\n",
    "    \n",
    "    def _sample_neg_pair(self, pos_pair) -> Tuple[int, int]:\n",
    "        idx = pos_pair[np.random.choice([0, 1])]\n",
    "        label = self.labels[idx]\n",
    "        neg_idx = np.random.choice(self.df.loc[self.df.label != label].index)\n",
    "        return (idx, neg_idx)\n",
    "    \n",
    "    def _image(self, ix):\n",
    "        image = self.images[ix]\n",
    "        image = image.transpose(2, 0, 1).astype(np.float32)[np.newaxis, ...]\n",
    "        return image\n",
    "        \n",
    "    def __getitem__(self, ix: int) -> Dict[str, Any]:\n",
    "        pos_pair = self.pos_pairs[ix]\n",
    "        neg_pair = self._sample_neg_pair(pos_pair)\n",
    "        images1 = np.vstack([self._image(pos_pair[0]), self._image(neg_pair[0])])\n",
    "        images2 = np.vstack([self._image(pos_pair[1]), self._image(neg_pair[1])])\n",
    "        labels = np.array([1, 0]).astype(np.long)\n",
    "        \n",
    "        return {\n",
    "            'images1': images1,\n",
    "            'images2': images2,\n",
    "            'labels': labels,\n",
    "        }"
   ]
  },
  {
   "cell_type": "code",
   "execution_count": null,
   "metadata": {},
   "outputs": [],
   "source": [
    "def get_dataloader(df, batch_size):\n",
    "    dataset = PairDataset(df.copy())\n",
    "    dataloader = torch.utils.data.DataLoader(dataset, batch_size=batch_size, shuffle=True, num_workers=1)\n",
    "    print('Training: {:,} total positive pairs {:,} mini batches'.format(len(dataset), len(dataloader)))\n",
    "    return dataset, dataloader"
   ]
  },
  {
   "cell_type": "code",
   "execution_count": null,
   "metadata": {},
   "outputs": [],
   "source": [
    "def flatten(batch):\n",
    "    bsz, n, c, h, w = batch['images1'].shape\n",
    "    images1, images2, labels = batch['images1'].view(-1, c, h, w), batch['images2'].view(-1, c, h, w), batch['labels'].view(-1)\n",
    "    return images1, images2, labels\n",
    "\n",
    "def visualize(batch):\n",
    "    images1, images2, labels = flatten(batch)\n",
    "\n",
    "    images1 = images1.data.cpu().numpy().transpose(0,2,3,1).astype(np.uint8)\n",
    "    images2 = images2.data.cpu().numpy().transpose(0,2,3,1).astype(np.uint8)\n",
    "\n",
    "    images = []\n",
    "    for ix in range(images1.shape[0]):\n",
    "        images.append(images1[ix])\n",
    "        images.append(images2[ix])\n",
    "\n",
    "    print(labels)\n",
    "    plt.imshow(montage(images, grid_shape=(images1.shape[0], 2), multichannel=True))\n",
    "    plt.show()"
   ]
  },
  {
   "cell_type": "code",
   "execution_count": null,
   "metadata": {},
   "outputs": [],
   "source": [
    "# dataset_train, dataloader_train = get_dataloader(df_train, 1)\n",
    "dataset_val, dataloader_val = get_dataloader(df_val, 1)"
   ]
  },
  {
   "cell_type": "code",
   "execution_count": null,
   "metadata": {},
   "outputs": [],
   "source": []
  },
  {
   "cell_type": "markdown",
   "metadata": {},
   "source": [
    "### Visualize some"
   ]
  },
  {
   "cell_type": "code",
   "execution_count": null,
   "metadata": {},
   "outputs": [],
   "source": [
    "for ix, batch in enumerate(dataloader_train):\n",
    "    if ix >= 2:\n",
    "        break\n",
    "    visualize(batch)"
   ]
  },
  {
   "cell_type": "code",
   "execution_count": null,
   "metadata": {},
   "outputs": [],
   "source": []
  }
 ],
 "metadata": {
  "kernelspec": {
   "display_name": "Python 3",
   "language": "python",
   "name": "python3"
  },
  "language_info": {
   "codemirror_mode": {
    "name": "ipython",
    "version": 3
   },
   "file_extension": ".py",
   "mimetype": "text/x-python",
   "name": "python",
   "nbconvert_exporter": "python",
   "pygments_lexer": "ipython3",
   "version": "3.6.7"
  }
 },
 "nbformat": 4,
 "nbformat_minor": 2
}
