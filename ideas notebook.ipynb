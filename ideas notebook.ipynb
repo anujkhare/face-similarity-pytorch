{
 "cells": [
  {
   "cell_type": "markdown",
   "metadata": {},
   "source": [
    "## Problem statement\n",
    "Given two faces, return a similarity score and whether they belong to the same person.\n",
    "\n",
    "Need to implement the model and training code ourselves, can use pre-trained models to start.\n",
    "\n",
    "### Data\n",
    "LFW-funneled\n",
    "\n",
    "- [Prepped dataset on Kaggle](https://www.kaggle.com/jessicali9530/lfw-dataset)\n",
    "- [A review ppt](http://cs.wellesley.edu/~vision/slides/Qianli_summary_deep_face_models.pdf)\n",
    "    - More data - FaceNet, or FB's DeepFace\n",
    "\n",
    "\n",
    "\n",
    "## Approach\n",
    "\n",
    "* [ ] Open source options\n",
    "    * [ ] DeepFace (fb)\n",
    "        - 3D face frontalization heuristics (?)\n",
    "        - CNN for classification\n",
    "    * [ ] FaceNet (Google): siamese\n",
    "    * [ ] OpenFaces\n",
    "    * [ ] [Siamese on AT&T faces](https://hackernoon.com/facial-similarity-with-siamese-networks-in-pytorch-9642aa9db2f7)\n",
    "\n",
    "### Pre-processing\n",
    "* [ ] Face detection and/or normalization/frontalization\n",
    "    * [ ] [Caffe based detection, alignment](https://github.com/RiweiChen/DeepFace)\n",
    "    * [ ] [Frontalization](https://talhassner.github.io/home/publication/2015_CVPR_1)\n",
    "\n",
    "### Pre-trained CNN\n",
    "* [ ] [VGG Face](http://www.robots.ox.ac.uk/~vgg/software/vgg_face/): used for LFW\n",
    "* [ ] [VGG Face2](https://github.com/ox-vgg/vgg_face2)\n",
    "\n",
    "### Model\n",
    "\n",
    "* [ ] Siamese with some CNN\n",
    "* [ ] Deep alignment methods\n",
    "    * [ ] Add in a STN for localization?\n",
    "\n",
    "### Data augmentation\n",
    "* [ ] Standard image things\n",
    "    * [ ] Lighting\n",
    "    * [ ] Discoloration\n",
    "    * [ ] Transformations\n",
    "\n",
    "### Training strategy\n"
   ]
  },
  {
   "cell_type": "code",
   "execution_count": null,
   "metadata": {},
   "outputs": [],
   "source": [
    "\n"
   ]
  }
 ],
 "metadata": {
  "kernelspec": {
   "display_name": "Python 3",
   "language": "python",
   "name": "python3"
  },
  "language_info": {
   "codemirror_mode": {
    "name": "ipython",
    "version": 3
   },
   "file_extension": ".py",
   "mimetype": "text/x-python",
   "name": "python",
   "nbconvert_exporter": "python",
   "pygments_lexer": "ipython3",
   "version": "3.6.8"
  }
 },
 "nbformat": 4,
 "nbformat_minor": 2
}
